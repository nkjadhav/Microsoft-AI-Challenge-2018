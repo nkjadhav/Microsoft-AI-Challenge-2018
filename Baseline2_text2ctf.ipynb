{
 "cells": [
  {
   "cell_type": "markdown",
   "metadata": {
    "toc": true
   },
   "source": [
    "<h1>Table of Contents<span class=\"tocSkip\"></span></h1>\n",
    "<div class=\"toc\"><ul class=\"toc-item\"></ul></div>"
   ]
  },
  {
   "cell_type": "code",
   "execution_count": 2,
   "metadata": {},
   "outputs": [
    {
     "name": "stdout",
     "output_type": "stream",
     "text": [
      "Train Data conversion is done\n",
      "Validation Data conversion is done\n",
      "Evaluation Data conversion is done\n"
     ]
    }
   ],
   "source": [
    "import re\n",
    "\n",
    "#Initialize Global variables \n",
    "GloveEmbeddings = {}\n",
    "max_query_words = 12\n",
    "max_passage_words = 50\n",
    "emb_dim = 50\n",
    "#The following method takes Glove Embedding file and stores all words and their embeddings in a dictionary\n",
    "def loadEmbeddings(embeddingfile):\n",
    "    global GloveEmbeddings,emb_dim\n",
    "\n",
    "    fe = open(embeddingfile,\"r\",encoding=\"utf-8\",errors=\"ignore\")\n",
    "    for line in fe:\n",
    "        tokens= line.strip().split()\n",
    "        word = tokens[0]\n",
    "        vec = tokens[1:]\n",
    "        vec = \" \".join(vec)\n",
    "        GloveEmbeddings[word]=vec\n",
    "    #Add Zerovec, this will be useful to pad zeros, it is better to experiment with padding any non-zero constant values also.\n",
    "    GloveEmbeddings[\"zerovec\"] = \"0.0 \"*emb_dim\n",
    "    fe.close()\n",
    "\n",
    "\n",
    "def TextDataToCTF(inputfile,outputfile,isEvaluation):\n",
    "    global GloveEmbeddings,emb_dim,max_query_words,max_passage_words\n",
    "\n",
    "    f = open(inputfile,\"r\",encoding=\"utf-8\",errors=\"ignore\")  # Format of the file : query_id \\t query \\t passage \\t label \\t passage_id\n",
    "    fw = open(outputfile,\"w\",encoding=\"utf-8\")\n",
    "    for line in f:\n",
    "        tokens = line.strip().lower().split(\"\\t\")\n",
    "        query_id,query,passage,label = tokens[0],tokens[1],tokens[2],tokens[3]\n",
    "\n",
    "        #****Query Processing****\n",
    "        words = re.split('\\W+', query)\n",
    "        words = [x for x in words if x] # to remove empty words \n",
    "        word_count = len(words)\n",
    "        remaining = max_query_words - word_count  \n",
    "        if(remaining>0):\n",
    "            words += [\"zerovec\"]*remaining # Pad zero vecs if the word count is less than max_query_words\n",
    "        words = words[:max_query_words] # trim extra words\n",
    "        #create Query Feature vector \n",
    "        query_feature_vector = \"\"\n",
    "        for word in words:\n",
    "            if(word in GloveEmbeddings):\n",
    "                query_feature_vector += GloveEmbeddings[word]+\" \"\n",
    "            else:\n",
    "                query_feature_vector += GloveEmbeddings[\"zerovec\"]+\" \"  #Add zerovec for OOV terms\n",
    "        query_feature_vector = query_feature_vector.strip() \n",
    "\n",
    "        #***** Passage Processing **********\n",
    "        words = re.split('\\W+', passage)\n",
    "        words = [x for x in words if x] # to remove empty words \n",
    "        word_count = len(words)\n",
    "        remaining = max_passage_words - word_count  \n",
    "        if(remaining>0):\n",
    "            words += [\"zerovec\"]*remaining # Pad zero vecs if the word count is less than max_passage_words\n",
    "        words = words[:max_passage_words] # trim extra words\n",
    "        #create Passage Feature vector \n",
    "        passage_feature_vector = \"\"\n",
    "        for word in words:\n",
    "            if(word in GloveEmbeddings):\n",
    "                passage_feature_vector += GloveEmbeddings[word]+\" \"\n",
    "            else:\n",
    "                passage_feature_vector += GloveEmbeddings[\"zerovec\"]+\" \"  #Add zerovec for OOV terms\n",
    "        passage_feature_vector = passage_feature_vector.strip() \n",
    "\n",
    "        #convert label\n",
    "        label_str = \" 1 0 \" if label==\"0\" else \" 0 1 \" \n",
    "\n",
    "        if(not isEvaluation):\n",
    "            fw.write(\"|qfeatures \"+query_feature_vector+\" |pfeatures \"+passage_feature_vector+\" |labels \"+label_str+\"\\n\")\n",
    "        else:\n",
    "            fw.write(\"|qfeatures \"+query_feature_vector+\" |pfeatures \"+passage_feature_vector+\"|qid \"+str(query_id)+\"\\n\")\n",
    "\n",
    "\n",
    "\n",
    "if __name__ == \"__main__\":\n",
    "\n",
    "    trainFileName = \"data_small.tsv\"\n",
    "    validationFileName = \"validationdata.tsv\"\n",
    "    EvaluationFileName = \"eval1_unlabelled.tsv\"\n",
    "\n",
    "    embeddingFileName = \"glove.6B.50d.txt\"\n",
    "\n",
    "    loadEmbeddings(embeddingFileName)    \n",
    "\n",
    "    # Convert Query,Passage Text Data to CNTK Text Format(CTF) using 50-Dimension Glove word embeddings \n",
    "    TextDataToCTF(trainFileName,\"TrainData.ctf\",False)\n",
    "    print(\"Train Data conversion is done\")\n",
    "    TextDataToCTF(validationFileName,\"ValidationData.ctf\",False)\n",
    "    print(\"Validation Data conversion is done\")\n",
    "    TextDataToCTF(EvaluationFileName,\"EvaluationData.ctf\",True)\n",
    "    print(\"Evaluation Data conversion is done\")"
   ]
  },
  {
   "cell_type": "code",
   "execution_count": null,
   "metadata": {},
   "outputs": [],
   "source": []
  }
 ],
 "metadata": {
  "kernelspec": {
   "display_name": "Python 3",
   "language": "python",
   "name": "python3"
  },
  "language_info": {
   "codemirror_mode": {
    "name": "ipython",
    "version": 3
   },
   "file_extension": ".py",
   "mimetype": "text/x-python",
   "name": "python",
   "nbconvert_exporter": "python",
   "pygments_lexer": "ipython3",
   "version": "3.6.6"
  },
  "toc": {
   "base_numbering": 1,
   "nav_menu": {},
   "number_sections": true,
   "sideBar": true,
   "skip_h1_title": false,
   "title_cell": "Table of Contents",
   "title_sidebar": "Contents",
   "toc_cell": true,
   "toc_position": {},
   "toc_section_display": true,
   "toc_window_display": false
  },
  "varInspector": {
   "cols": {
    "lenName": 16,
    "lenType": 16,
    "lenVar": 40
   },
   "kernels_config": {
    "python": {
     "delete_cmd_postfix": "",
     "delete_cmd_prefix": "del ",
     "library": "var_list.py",
     "varRefreshCmd": "print(var_dic_list())"
    },
    "r": {
     "delete_cmd_postfix": ") ",
     "delete_cmd_prefix": "rm(",
     "library": "var_list.r",
     "varRefreshCmd": "cat(var_dic_list()) "
    }
   },
   "position": {
    "height": "358px",
    "left": "694px",
    "right": "20px",
    "top": "106px",
    "width": "551px"
   },
   "types_to_exclude": [
    "module",
    "function",
    "builtin_function_or_method",
    "instance",
    "_Feature"
   ],
   "window_display": false
  }
 },
 "nbformat": 4,
 "nbformat_minor": 2
}
